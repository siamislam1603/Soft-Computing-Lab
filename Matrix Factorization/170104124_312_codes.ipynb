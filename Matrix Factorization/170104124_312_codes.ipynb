{
  "nbformat": 4,
  "nbformat_minor": 0,
  "metadata": {
    "colab": {
      "name": "170104124_312_codes.ipynb",
      "provenance": [],
      "collapsed_sections": []
    },
    "kernelspec": {
      "display_name": "Python 3",
      "name": "python3"
    },
    "language_info": {
      "name": "python"
    },
    "accelerator": "GPU"
  },
  "cells": [
    {
      "cell_type": "code",
      "metadata": {
        "id": "P7BAuBbS2tTa"
      },
      "source": [
        "import numpy as np\n",
        "import pandas as pd\n",
        "from sklearn.preprocessing import Normalizer\n",
        "import math\n",
        "import matplotlib.pyplot as plt\n",
        "%matplotlib inline"
      ],
      "execution_count": 1,
      "outputs": []
    },
    {
      "cell_type": "markdown",
      "metadata": {
        "id": "-uCp6AHE9Dun"
      },
      "source": [
        "## Dataset Creation"
      ]
    },
    {
      "cell_type": "code",
      "metadata": {
        "id": "vwR-P-z-3FMS",
        "colab": {
          "base_uri": "https://localhost:8080/"
        },
        "outputId": "14864739-2b3c-4dea-9bb2-b6da22f6504c"
      },
      "source": [
        "index_id=pd.read_csv('/content/drive/MyDrive/Colab Notebooks/index_id.csv')\n",
        "index_id=index_id[index_id['Student Id']==170104124]['Index Id'].values[0]\n",
        "index_id"
      ],
      "execution_count": 2,
      "outputs": [
        {
          "output_type": "execute_result",
          "data": {
            "text/plain": [
              "312"
            ]
          },
          "metadata": {
            "tags": []
          },
          "execution_count": 2
        }
      ]
    },
    {
      "cell_type": "code",
      "metadata": {
        "id": "33LaubL53eJV",
        "colab": {
          "base_uri": "https://localhost:8080/"
        },
        "outputId": "5f2d3e0f-ce6b-4a7e-8d58-4c468e64b027"
      },
      "source": [
        "df=pd.read_csv('/content/drive/MyDrive/Colab Notebooks/Matrix_Factorization_Assignment.csv')\n",
        "df.shape"
      ],
      "execution_count": 3,
      "outputs": [
        {
          "output_type": "execute_result",
          "data": {
            "text/plain": [
              "(45000, 5001)"
            ]
          },
          "metadata": {
            "tags": []
          },
          "execution_count": 3
        }
      ]
    },
    {
      "cell_type": "markdown",
      "metadata": {
        "id": "CC_Ij3PPOS0d"
      },
      "source": [
        "Removing all rows that satisfy row index % index id = 0"
      ]
    },
    {
      "cell_type": "code",
      "metadata": {
        "colab": {
          "base_uri": "https://localhost:8080/"
        },
        "id": "mUGOSugN9cnf",
        "outputId": "e6338548-b8fd-4b39-ee4b-edf986252632"
      },
      "source": [
        "df=df[df['Index']%index_id!=0]\n",
        "df.shape"
      ],
      "execution_count": 4,
      "outputs": [
        {
          "output_type": "execute_result",
          "data": {
            "text/plain": [
              "(44857, 5001)"
            ]
          },
          "metadata": {
            "tags": []
          },
          "execution_count": 4
        }
      ]
    },
    {
      "cell_type": "markdown",
      "metadata": {
        "id": "vAXo58J4OsHF"
      },
      "source": [
        "Removing all columns that satisfy column index % index id = 0"
      ]
    },
    {
      "cell_type": "code",
      "metadata": {
        "colab": {
          "base_uri": "https://localhost:8080/"
        },
        "id": "4DOjEBBF_OXM",
        "outputId": "df333b6b-8c55-402f-e63e-16033f1ea858"
      },
      "source": [
        "cols_list=df.columns[2:].tolist()\n",
        "cols_list = list(filter(lambda x: int(x) % index_id == 0,cols_list))\n",
        "cols_list"
      ],
      "execution_count": 5,
      "outputs": [
        {
          "output_type": "execute_result",
          "data": {
            "text/plain": [
              "['312',\n",
              " '624',\n",
              " '936',\n",
              " '1248',\n",
              " '1560',\n",
              " '1872',\n",
              " '2184',\n",
              " '2496',\n",
              " '2808',\n",
              " '3120',\n",
              " '3432',\n",
              " '3744',\n",
              " '4056',\n",
              " '4368',\n",
              " '4680',\n",
              " '4992']"
            ]
          },
          "metadata": {
            "tags": []
          },
          "execution_count": 5
        }
      ]
    },
    {
      "cell_type": "code",
      "metadata": {
        "colab": {
          "base_uri": "https://localhost:8080/"
        },
        "id": "oiLZDWBtCnhW",
        "outputId": "67fc917e-801e-4384-830f-b3dccf16130d"
      },
      "source": [
        "df=df.drop(cols_list,axis=1)\n",
        "print(df.shape)"
      ],
      "execution_count": 6,
      "outputs": [
        {
          "output_type": "stream",
          "text": [
            "(44857, 4985)\n"
          ],
          "name": "stdout"
        }
      ]
    },
    {
      "cell_type": "markdown",
      "metadata": {
        "id": "RVzE9GH1OG1g"
      },
      "source": [
        "## Implementation"
      ]
    },
    {
      "cell_type": "code",
      "metadata": {
        "id": "-sO5Eiamihjm"
      },
      "source": [
        "X=df.drop('Index',axis=1)"
      ],
      "execution_count": 7,
      "outputs": []
    },
    {
      "cell_type": "code",
      "metadata": {
        "colab": {
          "base_uri": "https://localhost:8080/"
        },
        "id": "QBScig5dPPeS",
        "outputId": "424a9b36-1906-4911-c397-08168c39fecb"
      },
      "source": [
        "N,M=X.shape\n",
        "print(N,M)"
      ],
      "execution_count": 8,
      "outputs": [
        {
          "output_type": "stream",
          "text": [
            "44857 4984\n"
          ],
          "name": "stdout"
        }
      ]
    },
    {
      "cell_type": "code",
      "metadata": {
        "id": "i712yXLrIely"
      },
      "source": [
        "def matrix_factorization(K_list,itr):\n",
        "  for K in K_list:\n",
        "    U=np.random.rand(N,K)\n",
        "    U_norm = Normalizer(norm='l2').fit(U)\n",
        "    U = U_norm.transform(U)\n",
        "    lam_u=(0.00015 + 0.0001 * (index_id % 8))\n",
        "    lam_v=(0.00025 - 0.0001 * (index_id % 7))\n",
        "    Loss[K]=[]\n",
        "    error=0\n",
        "    error_diff=0\n",
        "    print(f'\\n==============For {K} Latent Factors=====================')\n",
        "    for i in range(itr):\n",
        "      V=np.dot(np.linalg.inv(np.dot(U.T,U)+lam_v*np.identity(K)),np.dot(X.fillna(0).T,U).T)\n",
        "      U=np.dot(np.linalg.inv(np.dot(V,V.T)+lam_u*np.identity(K)),np.dot(X.fillna(0),V.T).T).T\n",
        "      L=np.nansum(np.square(X-np.dot(U,V)))/np.nansum(X.count())\n",
        "      Loss[K].append(L)\n",
        "      print(f'Iteration-{i}: Loss={L}')\n",
        "      if(math.floor(L)==0 or (len(Loss[K])%10==0 and abs(Loss[K][-1]-Loss[K][-10])<0.1)):\n",
        "        UxV[K]=np.dot(U,V)\n",
        "        break"
      ],
      "execution_count": 9,
      "outputs": []
    },
    {
      "cell_type": "code",
      "metadata": {
        "id": "Hx98gxZBPxQ7"
      },
      "source": [
        "K_list=[10,20,25]"
      ],
      "execution_count": 10,
      "outputs": []
    },
    {
      "cell_type": "code",
      "metadata": {
        "id": "veAZL34ZmALj",
        "colab": {
          "base_uri": "https://localhost:8080/"
        },
        "outputId": "678ac026-4e8f-4cd1-e03e-ec9139039c2f"
      },
      "source": [
        "Loss={}\n",
        "UxV={}\n",
        "matrix_factorization(K_list,800)"
      ],
      "execution_count": 11,
      "outputs": [
        {
          "output_type": "stream",
          "text": [
            "\n",
            "==============For 10 Latent Factors=====================\n",
            "Iteration-0: Loss=13.79773072900103\n",
            "Iteration-1: Loss=13.792611290717785\n",
            "Iteration-2: Loss=13.789291985166923\n",
            "Iteration-3: Loss=13.78720001986388\n",
            "Iteration-4: Loss=13.785811060882878\n",
            "Iteration-5: Loss=13.784832297385373\n",
            "Iteration-6: Loss=13.784108122445721\n",
            "Iteration-7: Loss=13.783551575753663\n",
            "Iteration-8: Loss=13.783110870296552\n",
            "Iteration-9: Loss=13.782753391597328\n",
            "\n",
            "==============For 20 Latent Factors=====================\n",
            "Iteration-0: Loss=13.762837739519858\n",
            "Iteration-1: Loss=13.752075866702647\n",
            "Iteration-2: Loss=13.745104686844995\n",
            "Iteration-3: Loss=13.740717806658505\n",
            "Iteration-4: Loss=13.73780544187576\n",
            "Iteration-5: Loss=13.735750054534975\n",
            "Iteration-6: Loss=13.734225028440479\n",
            "Iteration-7: Loss=13.733048963573042\n",
            "Iteration-8: Loss=13.732114473997163\n",
            "Iteration-9: Loss=13.731354193872436\n",
            "\n",
            "==============For 25 Latent Factors=====================\n",
            "Iteration-0: Loss=13.745550937643095\n",
            "Iteration-1: Loss=13.731912382892281\n",
            "Iteration-2: Loss=13.723022882168904\n",
            "Iteration-3: Loss=13.71741330394252\n",
            "Iteration-4: Loss=13.713691272731168\n",
            "Iteration-5: Loss=13.711071255916677\n",
            "Iteration-6: Loss=13.709134199305897\n",
            "Iteration-7: Loss=13.707645979773165\n",
            "Iteration-8: Loss=13.706467525737452\n",
            "Iteration-9: Loss=13.70551153760774\n"
          ],
          "name": "stdout"
        }
      ]
    },
    {
      "cell_type": "code",
      "metadata": {
        "id": "Y7ZqLvgtPzqc",
        "colab": {
          "base_uri": "https://localhost:8080/",
          "height": 383
        },
        "outputId": "f4748d27-0b62-4264-c2ea-d5f190286b03"
      },
      "source": [
        "fig = plt.figure()\n",
        "ax = fig.add_axes([0,0,2,1])\n",
        "for K in list(Loss.keys()):\n",
        "  ax.plot(np.arange(0,len(Loss[K])), Loss[K], label=\"K=\"+str(K))\n",
        "ax.set_title('Iterations Vs Loss Curve')\n",
        "ax.set_xlabel('Iteration')\n",
        "ax.set_ylabel('Loss')\n",
        "ax.legend()"
      ],
      "execution_count": 12,
      "outputs": [
        {
          "output_type": "execute_result",
          "data": {
            "text/plain": [
              "<matplotlib.legend.Legend at 0x7fa702a45d90>"
            ]
          },
          "metadata": {
            "tags": []
          },
          "execution_count": 12
        },
        {
          "output_type": "display_data",
          "data": {
            "image/png": "[encoded data removed]",
            "text/plain": [
              "<Figure size 432x288 with 1 Axes>"
            ]
          },
          "metadata": {
            "tags": [],
            "needs_background": "light"
          }
        }
      ]
    },
    {
      "cell_type": "code",
      "metadata": {
        "id": "5pcTBP0DH0D4"
      },
      "source": [
        "minimum_loss_K=(0,10000.0)\n",
        "for K in list(Loss.keys()):\n",
        "  if(minimum_loss_K[1]>min(Loss[K])):\n",
        "    minimum_loss_K=(K,min(Loss[K]))"
      ],
      "execution_count": 13,
      "outputs": []
    },
    {
      "cell_type": "code",
      "metadata": {
        "id": "wtknf4CPJV4b",
        "colab": {
          "base_uri": "https://localhost:8080/"
        },
        "outputId": "79e9855c-d9b2-4662-b65c-6c2b394fe9b4"
      },
      "source": [
        "K=minimum_loss_K[0]\n",
        "K"
      ],
      "execution_count": 14,
      "outputs": [
        {
          "output_type": "execute_result",
          "data": {
            "text/plain": [
              "25"
            ]
          },
          "metadata": {
            "tags": []
          },
          "execution_count": 14
        }
      ]
    },
    {
      "cell_type": "code",
      "metadata": {
        "id": "J4PDTjoSd1F2",
        "colab": {
          "base_uri": "https://localhost:8080/",
          "height": 52
        },
        "outputId": "0ff98bcb-012d-487b-88a5-445b5068ba79"
      },
      "source": [
        "'''\n",
        "input_df=X\n",
        "input_df = input_df.notnull().astype('int')\n",
        "input_df.loc[~input_df.isnull()] = 0  # not nan\n",
        "input_df.loc[input_df.isnull()] = 1   # nan\n",
        "'''"
      ],
      "execution_count": 15,
      "outputs": [
        {
          "output_type": "execute_result",
          "data": {
            "application/vnd.google.colaboratory.intrinsic+json": {
              "type": "string"
            },
            "text/plain": [
              "\"\\ninput_df=X\\ninput_df = input_df.notnull().astype('int')\\ninput_df.loc[~input_df.isnull()] = 0  # not nan\\ninput_df.loc[input_df.isnull()] = 1   # nan\\n\""
            ]
          },
          "metadata": {
            "tags": []
          },
          "execution_count": 15
        }
      ]
    },
    {
      "cell_type": "code",
      "metadata": {
        "id": "p2QH0Sf-hh4U"
      },
      "source": [
        ""
      ],
      "execution_count": 15,
      "outputs": []
    }
  ]
}