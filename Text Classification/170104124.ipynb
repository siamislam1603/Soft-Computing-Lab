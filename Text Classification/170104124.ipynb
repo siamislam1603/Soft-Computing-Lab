{
  "nbformat": 4,
  "nbformat_minor": 0,
  "metadata": {
    "colab": {
      "name": "170104124.ipynb",
      "provenance": [],
      "collapsed_sections": [],
      "include_colab_link": true
    },
    "kernelspec": {
      "name": "python3",
      "display_name": "Python 3"
    },
    "language_info": {
      "name": "python"
    },
    "accelerator": "GPU"
  },
  "cells": [
    {
      "cell_type": "markdown",
      "metadata": {
        "id": "view-in-github",
        "colab_type": "text"
      },
      "source": [
        "<a href=\"https://colab.research.google.com/github/siamislam1603/Soft-Computing-Lab/blob/text-classification/Text%20Classification/170104124.ipynb\" target=\"_parent\"><img src=\"https://colab.research.google.com/assets/colab-badge.svg\" alt=\"Open In Colab\"/></a>"
      ]
    },
    {
      "cell_type": "markdown",
      "metadata": {
        "id": "oiTy3gAIKjxb"
      },
      "source": [
        "### Importing necessary libraries"
      ]
    },
    {
      "cell_type": "code",
      "metadata": {
        "id": "u-SdLMb7PSU6"
      },
      "source": [
        "import numpy as np\n",
        "import matplotlib.pyplot as plt\n",
        "import pandas as pd\n",
        "import tensorflow as tf\n",
        "from tensorflow.keras.layers import Embedding\n",
        "from tensorflow.keras.preprocessing.sequence import pad_sequences\n",
        "from tensorflow.keras.layers import Dropout\n",
        "from tensorflow.keras.models import Sequential\n",
        "from tensorflow.keras.preprocessing.text import one_hot\n",
        "from tensorflow.keras.layers import LSTM\n",
        "from tensorflow.keras.layers import Dense\n",
        "%matplotlib inline"
      ],
      "execution_count": null,
      "outputs": []
    },
    {
      "cell_type": "markdown",
      "metadata": {
        "id": "-NuI2w0jKplD"
      },
      "source": [
        "### Read the csv using pandas dataframe"
      ]
    },
    {
      "cell_type": "code",
      "metadata": {
        "id": "Qv_Gf6bUyF7k"
      },
      "source": [
        "dataset_dir='drive/MyDrive/Soft Computing Lab/Assignment 3/Dataset 2.csv'"
      ],
      "execution_count": null,
      "outputs": []
    },
    {
      "cell_type": "code",
      "metadata": {
        "colab": {
          "base_uri": "https://localhost:8080/",
          "height": 206
        },
        "id": "PyFePaNQUPBU",
        "outputId": "3eb065fa-7c01-489d-d5a2-f88d553f357f"
      },
      "source": [
        "df=pd.read_csv(dataset_dir,encoding=\"ISO-8859-1\")\n",
        "df.head()"
      ],
      "execution_count": null,
      "outputs": [
        {
          "output_type": "execute_result",
          "data": {
            "text/html": [
              "<div>\n",
              "<style scoped>\n",
              "    .dataframe tbody tr th:only-of-type {\n",
              "        vertical-align: middle;\n",
              "    }\n",
              "\n",
              "    .dataframe tbody tr th {\n",
              "        vertical-align: top;\n",
              "    }\n",
              "\n",
              "    .dataframe thead th {\n",
              "        text-align: right;\n",
              "    }\n",
              "</style>\n",
              "<table border=\"1\" class=\"dataframe\">\n",
              "  <thead>\n",
              "    <tr style=\"text-align: right;\">\n",
              "      <th></th>\n",
              "      <th>text</th>\n",
              "      <th>polarity</th>\n",
              "    </tr>\n",
              "  </thead>\n",
              "  <tbody>\n",
              "    <tr>\n",
              "      <th>0</th>\n",
              "      <td>just had a real good moment. i missssssssss hi...</td>\n",
              "      <td>0</td>\n",
              "    </tr>\n",
              "    <tr>\n",
              "      <th>1</th>\n",
              "      <td>is reading manga  http://plurk.com/p/mzp1e</td>\n",
              "      <td>0</td>\n",
              "    </tr>\n",
              "    <tr>\n",
              "      <th>2</th>\n",
              "      <td>@comeagainjen http://twitpic.com/2y2lx - http:...</td>\n",
              "      <td>0</td>\n",
              "    </tr>\n",
              "    <tr>\n",
              "      <th>3</th>\n",
              "      <td>@lapcat Need to send 'em to my accountant tomo...</td>\n",
              "      <td>0</td>\n",
              "    </tr>\n",
              "    <tr>\n",
              "      <th>4</th>\n",
              "      <td>ADD ME ON MYSPACE!!!  myspace.com/LookThunder</td>\n",
              "      <td>0</td>\n",
              "    </tr>\n",
              "  </tbody>\n",
              "</table>\n",
              "</div>"
            ],
            "text/plain": [
              "                                                text  polarity\n",
              "0  just had a real good moment. i missssssssss hi...         0\n",
              "1         is reading manga  http://plurk.com/p/mzp1e         0\n",
              "2  @comeagainjen http://twitpic.com/2y2lx - http:...         0\n",
              "3  @lapcat Need to send 'em to my accountant tomo...         0\n",
              "4      ADD ME ON MYSPACE!!!  myspace.com/LookThunder         0"
            ]
          },
          "metadata": {},
          "execution_count": 3
        }
      ]
    },
    {
      "cell_type": "code",
      "metadata": {
        "colab": {
          "base_uri": "https://localhost:8080/"
        },
        "id": "inMaVJrth0-L",
        "outputId": "a9462261-8412-4ba3-8a3c-16a9624a7d13"
      },
      "source": [
        "df.shape"
      ],
      "execution_count": null,
      "outputs": [
        {
          "output_type": "execute_result",
          "data": {
            "text/plain": [
              "(10314, 2)"
            ]
          },
          "metadata": {},
          "execution_count": 3
        }
      ]
    },
    {
      "cell_type": "markdown",
      "metadata": {
        "id": "tnL4wq-xKwa4"
      },
      "source": [
        "### Frequency count of Polarity"
      ]
    },
    {
      "cell_type": "code",
      "metadata": {
        "colab": {
          "base_uri": "https://localhost:8080/"
        },
        "id": "OXLAqGrUhf79",
        "outputId": "080c459a-02b1-44f6-ff8b-7146719e11bb"
      },
      "source": [
        "df['polarity'].value_counts()"
      ],
      "execution_count": null,
      "outputs": [
        {
          "output_type": "execute_result",
          "data": {
            "text/plain": [
              "0    8000\n",
              "1    2314\n",
              "Name: polarity, dtype: int64"
            ]
          },
          "metadata": {},
          "execution_count": 4
        }
      ]
    },
    {
      "cell_type": "code",
      "metadata": {
        "colab": {
          "base_uri": "https://localhost:8080/",
          "height": 262
        },
        "id": "Ko9w_fdjV5mS",
        "outputId": "a4397013-90a3-40c0-f271-4c1a7199ac5e"
      },
      "source": [
        "df['polarity'].value_counts().plot(kind='bar',grid=True);"
      ],
      "execution_count": null,
      "outputs": [
        {
          "output_type": "display_data",
          "data": {
            "image/png": "[encoded data removed]",
            "text/plain": [
              "<Figure size 432x288 with 1 Axes>"
            ]
          },
          "metadata": {
            "needs_background": "light"
          }
        }
      ]
    },
    {
      "cell_type": "markdown",
      "metadata": {
        "id": "JdUuRf0bK4LQ"
      },
      "source": [
        "### Splitted the data into X & y"
      ]
    },
    {
      "cell_type": "code",
      "metadata": {
        "colab": {
          "base_uri": "https://localhost:8080/"
        },
        "id": "oz3BWMUPWErj",
        "outputId": "c85ba88c-27c5-4fa9-dbb0-fcdc1c4c786d"
      },
      "source": [
        "X=df.drop('polarity',axis=1)\n",
        "y=df['polarity']\n",
        "X.shape,y.shape"
      ],
      "execution_count": null,
      "outputs": [
        {
          "output_type": "execute_result",
          "data": {
            "text/plain": [
              "((10314, 1), (10314,))"
            ]
          },
          "metadata": {},
          "execution_count": 6
        }
      ]
    },
    {
      "cell_type": "markdown",
      "metadata": {
        "id": "4kQRg3sfLJfi"
      },
      "source": [
        "### Importing necessary nltk libraries for preprocessing the text"
      ]
    },
    {
      "cell_type": "code",
      "metadata": {
        "colab": {
          "base_uri": "https://localhost:8080/"
        },
        "id": "nqrLU0aFXxGu",
        "outputId": "33521a12-8f31-4cbf-ab35-a8c53beda3c9"
      },
      "source": [
        "import nltk\n",
        "import re\n",
        "from nltk.corpus import stopwords\n",
        "nltk.download('stopwords')"
      ],
      "execution_count": null,
      "outputs": [
        {
          "output_type": "stream",
          "name": "stdout",
          "text": [
            "[nltk_data] Downloading package stopwords to /root/nltk_data...\n",
            "[nltk_data]   Package stopwords is already up-to-date!\n"
          ]
        },
        {
          "output_type": "execute_result",
          "data": {
            "text/plain": [
              "True"
            ]
          },
          "metadata": {},
          "execution_count": 7
        }
      ]
    },
    {
      "cell_type": "markdown",
      "metadata": {
        "id": "O3kgkgzeLqwy"
      },
      "source": [
        "### Stemming the cleaned text"
      ]
    },
    {
      "cell_type": "code",
      "metadata": {
        "id": "AWH8xP5tX2yp"
      },
      "source": [
        "from nltk.stem.porter import PorterStemmer\n",
        "ps = PorterStemmer()\n",
        "corpus = []\n",
        "for i in range(len(X)):\n",
        "    text = re.sub('[^a-zA-Z]', ' ', X['text'][i])\n",
        "    text = text.lower()\n",
        "    text = text.split()\n",
        "    \n",
        "    text = [ps.stem(word) for word in text if not word in stopwords.words('english')]\n",
        "    text = ' '.join(text)\n",
        "    corpus.append(text)"
      ],
      "execution_count": null,
      "outputs": []
    },
    {
      "cell_type": "code",
      "metadata": {
        "colab": {
          "base_uri": "https://localhost:8080/"
        },
        "id": "C3-MCQBbYIGr",
        "outputId": "ac9d8337-1348-47fd-dc79-6344cf0e27d5"
      },
      "source": [
        "corpus[:5]"
      ],
      "execution_count": null,
      "outputs": [
        {
          "output_type": "execute_result",
          "data": {
            "text/plain": [
              "['real good moment missssssssss much',\n",
              " 'read manga http plurk com p mzp e',\n",
              " 'comeagainjen http twitpic com lx http www youtub com watch v zogfqvh',\n",
              " 'lapcat need send em account tomorrow oddli even refer tax support evid though',\n",
              " 'add myspac myspac com lookthund']"
            ]
          },
          "metadata": {},
          "execution_count": 9
        }
      ]
    },
    {
      "cell_type": "markdown",
      "metadata": {
        "id": "t8QN5W1OL5oc"
      },
      "source": [
        "### One-hot representation of stemmed_text according to vocabulary size"
      ]
    },
    {
      "cell_type": "code",
      "metadata": {
        "colab": {
          "base_uri": "https://localhost:8080/"
        },
        "id": "7suK3mnWYXjR",
        "outputId": "63e35826-67ea-49ea-e43c-d727dde860e4"
      },
      "source": [
        "voc_size=5000\n",
        "onehot_repr=[one_hot(words,voc_size)for words in corpus] \n",
        "onehot_repr[:5]"
      ],
      "execution_count": null,
      "outputs": [
        {
          "output_type": "execute_result",
          "data": {
            "text/plain": [
              "[[3260, 98, 2710, 1891, 2218],\n",
              " [1032, 4106, 4165, 2853, 2628, 4924, 2350, 2135],\n",
              " [503, 4165, 1061, 2628, 99, 4165, 1403, 1595, 2628, 1315, 4506, 371],\n",
              " [2657, 4877, 3168, 643, 175, 3738, 1450, 4999, 1965, 1979, 4898, 4911, 3331],\n",
              " [935, 4791, 4791, 2628, 1014]]"
            ]
          },
          "metadata": {},
          "execution_count": 10
        }
      ]
    },
    {
      "cell_type": "markdown",
      "metadata": {
        "id": "IFIpPVAcMO0a"
      },
      "source": [
        "#### Made the fixed length sentences using `pad_sequences`"
      ]
    },
    {
      "cell_type": "code",
      "metadata": {
        "colab": {
          "base_uri": "https://localhost:8080/"
        },
        "id": "XQyjnMqGYj5H",
        "outputId": "215d2c9c-4d16-42e4-ae1b-d791e0a1a544"
      },
      "source": [
        "sent_length=20\n",
        "embedded_docs=pad_sequences(onehot_repr,padding='pre',maxlen=sent_length)\n",
        "print(embedded_docs)"
      ],
      "execution_count": null,
      "outputs": [
        {
          "output_type": "stream",
          "name": "stdout",
          "text": [
            "[[   0    0    0 ... 2710 1891 2218]\n",
            " [   0    0    0 ... 4924 2350 2135]\n",
            " [   0    0    0 ... 1315 4506  371]\n",
            " ...\n",
            " [   0    0    0 ... 4165 4039 1741]\n",
            " [   0    0    0 ... 1859 1149  643]\n",
            " [   0    0    0 ...    0    0    0]]\n"
          ]
        }
      ]
    },
    {
      "cell_type": "code",
      "metadata": {
        "colab": {
          "base_uri": "https://localhost:8080/"
        },
        "id": "UzNoylkrYuvS",
        "outputId": "31633766-15fb-4cbc-a338-eaf2938c8727"
      },
      "source": [
        "embedded_docs[0]"
      ],
      "execution_count": null,
      "outputs": [
        {
          "output_type": "execute_result",
          "data": {
            "text/plain": [
              "array([   0,    0,    0,    0,    0,    0,    0,    0,    0,    0,    0,\n",
              "          0,    0,    0,    0, 3260,   98, 2710, 1891, 2218], dtype=int32)"
            ]
          },
          "metadata": {},
          "execution_count": 12
        }
      ]
    },
    {
      "cell_type": "markdown",
      "metadata": {
        "id": "FJM4kX78MgdB"
      },
      "source": [
        "### More than 2-Stacked LSTM model"
      ]
    },
    {
      "cell_type": "code",
      "metadata": {
        "colab": {
          "base_uri": "https://localhost:8080/"
        },
        "id": "7dMv_EsAYxNN",
        "outputId": "40bfae96-1a6b-463b-c2a2-7f6943a26469"
      },
      "source": [
        "embedding_vector_features=40\n",
        "model=Sequential()\n",
        "model.add(Embedding(voc_size,embedding_vector_features,input_length=sent_length))\n",
        "model.add(Dropout(0.3))\n",
        "model.add(LSTM(100,return_sequences=True))\n",
        "model.add(Dropout(0.3))\n",
        "model.add(LSTM(100,return_sequences=True))\n",
        "model.add(Dropout(0.3))\n",
        "model.add(LSTM(100))\n",
        "model.add(Dropout(0.3))\n",
        "model.add(Dense(1,activation='sigmoid'))\n",
        "model.compile(loss='binary_crossentropy',optimizer='adam',metrics=['accuracy'])\n",
        "print(model.summary())"
      ],
      "execution_count": null,
      "outputs": [
        {
          "output_type": "stream",
          "name": "stdout",
          "text": [
            "Model: \"sequential\"\n",
            "_________________________________________________________________\n",
            "Layer (type)                 Output Shape              Param #   \n",
            "=================================================================\n",
            "embedding (Embedding)        (None, 20, 40)            200000    \n",
            "_________________________________________________________________\n",
            "dropout (Dropout)            (None, 20, 40)            0         \n",
            "_________________________________________________________________\n",
            "lstm (LSTM)                  (None, 20, 100)           56400     \n",
            "_________________________________________________________________\n",
            "dropout_1 (Dropout)          (None, 20, 100)           0         \n",
            "_________________________________________________________________\n",
            "lstm_1 (LSTM)                (None, 20, 100)           80400     \n",
            "_________________________________________________________________\n",
            "dropout_2 (Dropout)          (None, 20, 100)           0         \n",
            "_________________________________________________________________\n",
            "lstm_2 (LSTM)                (None, 100)               80400     \n",
            "_________________________________________________________________\n",
            "dropout_3 (Dropout)          (None, 100)               0         \n",
            "_________________________________________________________________\n",
            "dense (Dense)                (None, 1)                 101       \n",
            "=================================================================\n",
            "Total params: 417,301\n",
            "Trainable params: 417,301\n",
            "Non-trainable params: 0\n",
            "_________________________________________________________________\n",
            "None\n"
          ]
        }
      ]
    },
    {
      "cell_type": "markdown",
      "metadata": {
        "id": "gDiEtce9M8xa"
      },
      "source": [
        "### Split the data into train, validation and test set"
      ]
    },
    {
      "cell_type": "code",
      "metadata": {
        "id": "7UD8PgzQY5gZ"
      },
      "source": [
        "X_final=np.array(embedded_docs)\n",
        "y_final=np.array(y)"
      ],
      "execution_count": null,
      "outputs": []
    },
    {
      "cell_type": "code",
      "metadata": {
        "colab": {
          "base_uri": "https://localhost:8080/"
        },
        "id": "SlUKeCC3Zl07",
        "outputId": "107d8308-5c6c-4c69-d161-b48444d9bc5e"
      },
      "source": [
        "X_final.shape,y_final.shape"
      ],
      "execution_count": null,
      "outputs": [
        {
          "output_type": "execute_result",
          "data": {
            "text/plain": [
              "((10314, 20), (10314,))"
            ]
          },
          "metadata": {},
          "execution_count": 15
        }
      ]
    },
    {
      "cell_type": "code",
      "metadata": {
        "id": "KIvk8ErWZonk"
      },
      "source": [
        "from sklearn.model_selection import train_test_split\n",
        "X_train1, X_test, y_train1, y_test = train_test_split(X_final, y_final, test_size=0.2, random_state=42)\n",
        "X_train,X_validation,y_train,y_validation=train_test_split(X_train1,y_train1,test_size=0.2,random_state=42)"
      ],
      "execution_count": null,
      "outputs": []
    },
    {
      "cell_type": "markdown",
      "metadata": {
        "id": "71vNA7TqRxZ5"
      },
      "source": [
        "### Train the model"
      ]
    },
    {
      "cell_type": "code",
      "metadata": {
        "colab": {
          "base_uri": "https://localhost:8080/"
        },
        "id": "wjM2Kh8NZ_YK",
        "outputId": "fa692952-5845-4327-c949-7408ba6ef7ad"
      },
      "source": [
        "model_history=model.fit(X_train,y_train,validation_data=(X_validation,y_validation),epochs=10,batch_size=64)"
      ],
      "execution_count": null,
      "outputs": [
        {
          "output_type": "stream",
          "name": "stdout",
          "text": [
            "Epoch 1/10\n",
            "104/104 [==============================] - 10s 39ms/step - loss: 0.3460 - accuracy: 0.8680 - val_loss: 0.1291 - val_accuracy: 0.9576\n",
            "Epoch 2/10\n",
            "104/104 [==============================] - 3s 28ms/step - loss: 0.0400 - accuracy: 0.9874 - val_loss: 0.0496 - val_accuracy: 0.9915\n",
            "Epoch 3/10\n",
            "104/104 [==============================] - 3s 28ms/step - loss: 0.0143 - accuracy: 0.9974 - val_loss: 0.0577 - val_accuracy: 0.9891\n",
            "Epoch 4/10\n",
            "104/104 [==============================] - 3s 27ms/step - loss: 0.0102 - accuracy: 0.9983 - val_loss: 0.0480 - val_accuracy: 0.9873\n",
            "Epoch 5/10\n",
            "104/104 [==============================] - 3s 27ms/step - loss: 0.0082 - accuracy: 0.9986 - val_loss: 0.0624 - val_accuracy: 0.9891\n",
            "Epoch 6/10\n",
            "104/104 [==============================] - 3s 28ms/step - loss: 0.0071 - accuracy: 0.9988 - val_loss: 0.0571 - val_accuracy: 0.9885\n",
            "Epoch 7/10\n",
            "104/104 [==============================] - 3s 27ms/step - loss: 0.0066 - accuracy: 0.9980 - val_loss: 0.0749 - val_accuracy: 0.9867\n",
            "Epoch 8/10\n",
            "104/104 [==============================] - 3s 28ms/step - loss: 0.0051 - accuracy: 0.9989 - val_loss: 0.0710 - val_accuracy: 0.9879\n",
            "Epoch 9/10\n",
            "104/104 [==============================] - 3s 27ms/step - loss: 0.0038 - accuracy: 0.9992 - val_loss: 0.0848 - val_accuracy: 0.9855\n",
            "Epoch 10/10\n",
            "104/104 [==============================] - 3s 28ms/step - loss: 0.0062 - accuracy: 0.9989 - val_loss: 0.0832 - val_accuracy: 0.9861\n"
          ]
        }
      ]
    },
    {
      "cell_type": "markdown",
      "metadata": {
        "id": "diQ2cvUMdAQr"
      },
      "source": [
        "### Loss curves"
      ]
    },
    {
      "cell_type": "code",
      "metadata": {
        "colab": {
          "base_uri": "https://localhost:8080/",
          "height": 442
        },
        "id": "dtRU_6uYbL5x",
        "outputId": "db9c696b-7b13-410c-cd3b-4600f3bfbfd7"
      },
      "source": [
        "pd.DataFrame(model_history.history).plot(figsize=(10,7),xlabel='Epochs');"
      ],
      "execution_count": null,
      "outputs": [
        {
          "output_type": "display_data",
          "data": {
            "image/png": "[encoded data removed]",
            "text/plain": [
              "<Figure size 720x504 with 1 Axes>"
            ]
          },
          "metadata": {
            "needs_background": "light"
          }
        }
      ]
    },
    {
      "cell_type": "markdown",
      "metadata": {
        "id": "gpjjlZ1SR1ug"
      },
      "source": [
        "### Evaluate the model on test-set"
      ]
    },
    {
      "cell_type": "code",
      "metadata": {
        "colab": {
          "base_uri": "https://localhost:8080/"
        },
        "id": "4UmzBeHXeRZJ",
        "outputId": "8e2089fc-5d64-4c37-d54e-dc21c7dab941"
      },
      "source": [
        "loss, accuracy = model.evaluate(X_test, y_test)\n",
        "print(f\"Model loss on test set: {loss}\")\n",
        "print(f\"Model accuracy on test set: {(accuracy*100):.2f}%\")"
      ],
      "execution_count": null,
      "outputs": [
        {
          "output_type": "stream",
          "name": "stdout",
          "text": [
            "65/65 [==============================] - 1s 9ms/step - loss: 0.0795 - accuracy: 0.9879\n",
            "Model loss on test set: 0.07949882000684738\n",
            "Model accuracy on test set: 98.79%\n"
          ]
        }
      ]
    },
    {
      "cell_type": "markdown",
      "metadata": {
        "id": "O_GS7jF3cTfJ"
      },
      "source": [
        "> **`Confusion matrix`**"
      ]
    },
    {
      "cell_type": "code",
      "metadata": {
        "id": "hrFepU-3aFMj",
        "colab": {
          "base_uri": "https://localhost:8080/",
          "height": 322
        },
        "outputId": "17c0c99e-daf2-475c-bcee-0ce49ef56e03"
      },
      "source": [
        "from sklearn.metrics import classification_report,confusion_matrix\n",
        "import seaborn as sns\n",
        "y_pred=tf.round(model.predict(X_test))\n",
        "conf_mat=confusion_matrix(y_test,y_pred)\n",
        "fig,ax=plt.subplots(figsize=(5,5))\n",
        "ax=sns.heatmap(conf_mat,cmap='coolwarm',annot=True)"
      ],
      "execution_count": null,
      "outputs": [
        {
          "output_type": "display_data",
          "data": {
            "image/png": "[encoded data removed]",
            "text/plain": [
              "<Figure size 360x360 with 2 Axes>"
            ]
          },
          "metadata": {
            "needs_background": "light"
          }
        }
      ]
    },
    {
      "cell_type": "markdown",
      "metadata": {
        "id": "FZXwfh6scblr"
      },
      "source": [
        "> **`Classification report`**"
      ]
    },
    {
      "cell_type": "code",
      "metadata": {
        "colab": {
          "base_uri": "https://localhost:8080/"
        },
        "id": "WmeWfqlUb-R2",
        "outputId": "258e0a57-6b3f-47be-ef02-7329f7e1ecfb"
      },
      "source": [
        "print(classification_report(y_test,y_pred))"
      ],
      "execution_count": null,
      "outputs": [
        {
          "output_type": "stream",
          "name": "stdout",
          "text": [
            "              precision    recall  f1-score   support\n",
            "\n",
            "           0       0.99      1.00      0.99      1614\n",
            "           1       0.99      0.95      0.97       449\n",
            "\n",
            "    accuracy                           0.99      2063\n",
            "   macro avg       0.99      0.98      0.98      2063\n",
            "weighted avg       0.99      0.99      0.99      2063\n",
            "\n"
          ]
        }
      ]
    },
    {
      "cell_type": "markdown",
      "metadata": {
        "id": "yVbaEiVSchwm"
      },
      "source": [
        "> **`Accuracy`, `Precision`, `Recall`, `F1-Score`**"
      ]
    },
    {
      "cell_type": "code",
      "metadata": {
        "id": "n6FsBtCLR7WQ"
      },
      "source": [
        "from sklearn.metrics import accuracy_score,precision_score,recall_score,f1_score\n",
        "def evaluate_preds(Y_test,Y_pred):\n",
        "  accuracy=accuracy_score(Y_test,Y_pred)\n",
        "  precision=precision_score(Y_test,Y_pred)\n",
        "  recall=recall_score(Y_test,Y_pred)\n",
        "  f1=f1_score(Y_test,Y_pred)\n",
        "  metric_dict={'Accuracy':round(accuracy*100,2),\n",
        "      \"Precision\":round(precision*100,2),\n",
        "      \"Recall\":round(recall*100,2),\n",
        "      \"F1-Score\":round(f1*100,2)}\n",
        "  return metric_dict"
      ],
      "execution_count": null,
      "outputs": []
    },
    {
      "cell_type": "code",
      "metadata": {
        "colab": {
          "base_uri": "https://localhost:8080/"
        },
        "id": "1bMx9wkPYlct",
        "outputId": "4f6c52f8-2b4b-44e0-fbc0-d920c336bd61"
      },
      "source": [
        "performance_mat=evaluate_preds(y_test,y_pred)\n",
        "perf_mat_series=pd.Series(performance_mat)\n",
        "perf_mat_series"
      ],
      "execution_count": null,
      "outputs": [
        {
          "output_type": "execute_result",
          "data": {
            "text/plain": [
              "Accuracy     98.79\n",
              "Precision    99.07\n",
              "Recall       95.32\n",
              "F1-Score     97.16\n",
              "dtype: float64"
            ]
          },
          "metadata": {},
          "execution_count": 23
        }
      ]
    },
    {
      "cell_type": "code",
      "metadata": {
        "colab": {
          "base_uri": "https://localhost:8080/",
          "height": 301
        },
        "id": "Fdi0U6acY5Tw",
        "outputId": "079ae401-4b45-4bc3-9a4f-004b3550c1be"
      },
      "source": [
        "perf_mat_series.plot(kind='bar');"
      ],
      "execution_count": null,
      "outputs": [
        {
          "output_type": "display_data",
          "data": {
            "image/png": "[encoded data removed]",
            "text/plain": [
              "<Figure size 432x288 with 1 Axes>"
            ]
          },
          "metadata": {
            "needs_background": "light"
          }
        }
      ]
    },
    {
      "cell_type": "markdown",
      "metadata": {
        "id": "ENH3JJ3T84Pw"
      },
      "source": [
        "### Github Link: [Text Classification](https://github.com/siamislam1603/Soft-Computing-Lab/tree/text-classification/Text%20Classification)"
      ]
    },
    {
      "cell_type": "code",
      "metadata": {
        "id": "NIvPNmdaZJPa"
      },
      "source": [
        ""
      ],
      "execution_count": null,
      "outputs": []
    }
  ]
}